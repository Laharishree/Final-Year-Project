{
 "cells": [
  {
   "cell_type": "code",
   "execution_count": 2,
   "metadata": {},
   "outputs": [
    {
     "name": "stdout",
     "output_type": "stream",
     "text": [
      "The nearest bus stop is: Heligehalli Gollarahatti\n",
      "It is 14.26 km away from your location.\n"
     ]
    }
   ],
   "source": [
    "import csv\n",
    "from math import sin, cos, sqrt, atan2, radians\n",
    "\n",
    "# Load the bus stop data from a CSV file\n",
    "with open('Data/bustop.csv', 'r') as f:\n",
    "    reader = csv.reader(f)\n",
    "    next(reader) # skip the header row\n",
    "    bus_stops = [(float(row[1]), float(row[2]), row[0]) for row in reader]\n",
    "\n",
    "# Function to calculate the distance between two points on Earth\n",
    "def distance(lat1, lon1, lat2, lon2):\n",
    "    R = 6373.0 # Earth radius in kilometers\n",
    "\n",
    "    lat1_rad = radians(lat1)\n",
    "    lon1_rad = radians(lon1)\n",
    "    lat2_rad = radians(lat2)\n",
    "    lon2_rad = radians(lon2)\n",
    "\n",
    "    dlon = lon2_rad - lon1_rad\n",
    "    dlat = lat2_rad - lat1_rad\n",
    "\n",
    "    a = sin(dlat / 2)**2 + cos(lat1_rad) * cos(lat2_rad) * sin(dlon / 2)**2\n",
    "    c = 2 * atan2(sqrt(a), sqrt(1 - a))\n",
    "\n",
    "    distance_km = R * c\n",
    "    return distance_km\n",
    "\n",
    "# Get the user's location\n",
    "user_lat = float(input(\"Enter your latitude: \"))\n",
    "user_lon = float(input(\"Enter your longitude: \"))\n",
    "\n",
    "# Find the nearest bus stop\n",
    "nearest_stop = None\n",
    "nearest_distance = None\n",
    "\n",
    "for stop_lat, stop_lon, stop_name in bus_stops:\n",
    "\n",
    "    # Calculate the distance between the user and the bus stop\n",
    "    dist = distance(user_lat, user_lon, stop_lat, stop_lon)\n",
    "\n",
    "    # Check if this is the nearest bus stop so far\n",
    "    if nearest_distance is None or dist < nearest_distance:\n",
    "        nearest_stop = stop_name\n",
    "        nearest_distance = dist\n",
    "\n",
    "# Print the nearest bus stop\n",
    "print(\"The nearest bus stop is:\", nearest_stop)\n",
    "print(\"It is\", round(nearest_distance, 2), \"km away from your location.\")\n"
   ]
  }
 ],
 "metadata": {
  "kernelspec": {
   "display_name": "Python 3",
   "language": "python",
   "name": "python3"
  },
  "language_info": {
   "codemirror_mode": {
    "name": "ipython",
    "version": 3
   },
   "file_extension": ".py",
   "mimetype": "text/x-python",
   "name": "python",
   "nbconvert_exporter": "python",
   "pygments_lexer": "ipython3",
   "version": "3.10.7"
  },
  "orig_nbformat": 4
 },
 "nbformat": 4,
 "nbformat_minor": 2
}
